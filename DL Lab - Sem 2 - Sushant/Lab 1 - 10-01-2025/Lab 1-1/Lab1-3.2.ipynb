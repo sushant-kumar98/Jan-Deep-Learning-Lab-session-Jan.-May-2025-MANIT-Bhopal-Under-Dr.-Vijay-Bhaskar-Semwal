{
 "cells": [
  {
   "cell_type": "code",
   "execution_count": 5,
   "id": "a81f66cd-9a17-4345-b9ad-e1427dce39f9",
   "metadata": {},
   "outputs": [
    {
     "data": {
      "text/plain": [
       "0.11130535582313704"
      ]
     },
     "execution_count": 5,
     "metadata": {},
     "output_type": "execute_result"
    }
   ],
   "source": [
    "import numpy as np\n",
    "import pandas as pd\n",
    "from sklearn.preprocessing import MinMaxScaler\n",
    "from sklearn.neural_network import MLPRegressor\n",
    "from sklearn.model_selection import train_test_split\n",
    "from sklearn.metrics import mean_squared_error\n",
    "from sklearn.impute import SimpleImputer\n",
    "\n",
    "# Step 1: Create the dataframe\n",
    "data = {\n",
    "    'Age': [25, 30, np.nan, 22, 28],\n",
    "    'Deficit': [np.nan, 50, 60, 45, 55],\n",
    "    'C_peptide': [1.2, np.nan, 1.5, 1.3, 1.6],\n",
    "    'BloodPressure': [120, 130, 125, np.nan, 140],\n",
    "    'Cholesterol': [200, 220, 210, 205, np.nan]\n",
    "}\n",
    "\n",
    "df = pd.DataFrame(data)\n",
    "\n",
    "# Step 2: Min-Max Normalization\n",
    "scaler = MinMaxScaler()\n",
    "df_normalized = pd.DataFrame(scaler.fit_transform(df), columns=df.columns)\n",
    "\n",
    "# Step 3: Data Imputation (Replace NaN with the mean of the respective column)\n",
    "imputer = SimpleImputer(strategy='mean')\n",
    "df_imputed = pd.DataFrame(imputer.fit_transform(df_normalized), columns=df.columns)\n",
    "\n",
    "# Step 4: Split data into features (X) and labels (y)\n",
    "X = df_imputed.drop('Deficit', axis=1)\n",
    "y = df_imputed['Deficit']\n",
    "\n",
    "# Step 5: Split the data into training and testing sets\n",
    "X_train, X_test, y_train, y_test = train_test_split(X, y, test_size=0.2, random_state=42)\n",
    "\n",
    "# Step 6: Apply a Multi-layer Perceptron Regressor\n",
    "mlp = MLPRegressor(hidden_layer_sizes=(10, 10), max_iter=1000, random_state=42)\n",
    "mlp.fit(X_train, y_train)\n",
    "\n",
    "# Step 7: Evaluate the model\n",
    "y_pred = mlp.predict(X_test)\n",
    "mse = mean_squared_error(y_test, y_pred)\n",
    "\n",
    "# Output results\n",
    "mse\n"
   ]
  },
  {
   "cell_type": "code",
   "execution_count": null,
   "id": "74ac665d-f548-46c4-a3aa-acc1af918c79",
   "metadata": {},
   "outputs": [],
   "source": []
  }
 ],
 "metadata": {
  "kernelspec": {
   "display_name": "Python 3 (ipykernel)",
   "language": "python",
   "name": "python3"
  },
  "language_info": {
   "codemirror_mode": {
    "name": "ipython",
    "version": 3
   },
   "file_extension": ".py",
   "mimetype": "text/x-python",
   "name": "python",
   "nbconvert_exporter": "python",
   "pygments_lexer": "ipython3",
   "version": "3.13.0"
  }
 },
 "nbformat": 4,
 "nbformat_minor": 5
}
